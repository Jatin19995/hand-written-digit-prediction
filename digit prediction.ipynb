{
  "cells": [
    {
      "cell_type": "markdown",
      "source": [
        "# **Hand Written Digit Prediction- Classification Analysis**"
      ],
      "metadata": {
        "id": "lWw3TA_7fWIZ"
      }
    },
    {
      "cell_type": "markdown",
      "source": [
        "# **Objective**"
      ],
      "metadata": {
        "id": "k8LaMUzpkG0j"
      }
    },
    {
      "cell_type": "markdown",
      "source": [
        "The primary objective of a Handwritten Digit Prediction project is to develop a machine learning model that can accurately recognize and predict handwritten digits from 0 to 9¹. This involves using datasets like the MNIST or scikit-learn’s built-in “digits” dataset, which contain images of handwritten digits, each represented by a pixel matrix. The project typically includes steps such as data preprocessing, model training, evaluation, and prediction. It’s a fundamental project in the field of computer vision and machine learning, often serving as a stepping stone for more complex image recognition tasks."
      ],
      "metadata": {
        "id": "CXs4Z_V0kTnV"
      }
    },
    {
      "cell_type": "markdown",
      "source": [
        "# **Data Source**"
      ],
      "metadata": {
        "id": "Ey0K7ezYnNtc"
      }
    },
    {
      "cell_type": "markdown",
      "source": [
        "**MNIST Dataset:**\n",
        "1. The MNIST dataset was developed by Yann LeCun, Corinna Cortes, and Christopher Burges.\n",
        "2. It serves as a benchmark for evaluating machine learning models on the handwritten digit classification problem.\n",
        "3. The dataset consists of 28x28-pixel images of handwritten digits (0 to 9).\n",
        "4. Each image is normalized in size and centered, making it ideal for model evaluation.\n",
        "5. The standard split of the dataset includes 60,000 training images and 10,000 test images.\n",
        "6. The goal is to predict the correct digit class for each image.\n",
        "7. State-of-the-art models achieve a prediction error of approximately 0.2% using large convolutional neural networks (CNNs) 1.\n",
        "**CNNs (Convolutional Neural Networks):**\n",
        "1. CNNs are a type of deep learning architecture commonly used for image recognition tasks.\n",
        "2. They excel at capturing spatial patterns and hierarchies in image data.\n",
        "3. In the context of handwritten digit prediction, CNNs learn to recognize features like edges, corners, and shapes within the digit images.\n",
        "4. Researchers and practitioners often use CNNs to achieve high accuracy on the MNIST dataset 1."
      ],
      "metadata": {
        "id": "1kjoH_KXniXz"
      }
    },
    {
      "cell_type": "markdown",
      "source": [
        "**Import Library**"
      ],
      "metadata": {
        "id": "BVmu-14eGEYQ"
      }
    },
    {
      "cell_type": "code",
      "source": [
        "import pandas as pd"
      ],
      "metadata": {
        "id": "i6SuQYOiGM6q"
      },
      "execution_count": 1,
      "outputs": []
    },
    {
      "cell_type": "code",
      "source": [
        "import numpy as np"
      ],
      "metadata": {
        "id": "oqBCD5jRGmRe"
      },
      "execution_count": 2,
      "outputs": []
    },
    {
      "cell_type": "code",
      "source": [
        "import matplotlib.pyplot as plt"
      ],
      "metadata": {
        "id": "gleQw23aGsx3"
      },
      "execution_count": 3,
      "outputs": []
    },
    {
      "cell_type": "markdown",
      "source": [
        "**Import Data**"
      ],
      "metadata": {
        "id": "fkVYozg-G5i3"
      }
    },
    {
      "cell_type": "code",
      "source": [
        "from sklearn.datasets import load_digits"
      ],
      "metadata": {
        "id": "TIyO2qi0Gzed"
      },
      "execution_count": 4,
      "outputs": []
    },
    {
      "cell_type": "code",
      "source": [
        "df = load_digits()"
      ],
      "metadata": {
        "id": "dDPk1uS_H-s7"
      },
      "execution_count": 6,
      "outputs": []
    },
    {
      "cell_type": "code",
      "source": [
        "_, axes = plt.subplots(nrows=1, ncols=4, figsize=(10,3))\n",
        "for ax, image, label in zip(axes, df.images, df.target):\n",
        "  ax.set_axis_off()\n",
        "  ax.imshow(image, cmap=plt.cm.gray_r, interpolation=\"nearest\")\n",
        "  ax.set_title(\"Training: %i\" %label)"
      ],
      "metadata": {
        "id": "pecPKauJIEaE",
        "outputId": "191eb2fe-d1f9-4b53-ee8d-dd7bceacb9e6",
        "colab": {
          "base_uri": "https://localhost:8080/",
          "height": 227
        }
      },
      "execution_count": 7,
      "outputs": [
        {
          "output_type": "display_data",
          "data": {
            "text/plain": [
              "<Figure size 1000x300 with 4 Axes>"
            ],
            "image/png": "[encoded data removed]"
          },
          "metadata": {}
        }
      ]
    },
    {
      "cell_type": "markdown",
      "source": [
        "# **Data Preprocessing**"
      ],
      "metadata": {
        "id": "a81fw7IOK3Jy"
      }
    },
    {
      "cell_type": "markdown",
      "source": [
        "Flatten image"
      ],
      "metadata": {
        "id": "9VUKFR1rLWkx"
      }
    },
    {
      "cell_type": "code",
      "source": [
        "df.images.shape"
      ],
      "metadata": {
        "id": "T5dqKwG_ML6e",
        "outputId": "bb656400-c69a-4a94-dc4c-e257ed6f48e4",
        "colab": {
          "base_uri": "https://localhost:8080/"
        }
      },
      "execution_count": 8,
      "outputs": [
        {
          "output_type": "execute_result",
          "data": {
            "text/plain": [
              "(1797, 8, 8)"
            ]
          },
          "metadata": {},
          "execution_count": 8
        }
      ]
    },
    {
      "cell_type": "code",
      "source": [
        "df.images[0]"
      ],
      "metadata": {
        "id": "NWkE8-t7MODr",
        "outputId": "582f79b3-d138-4674-fcf7-a5595f2ff89e",
        "colab": {
          "base_uri": "https://localhost:8080/"
        }
      },
      "execution_count": 9,
      "outputs": [
        {
          "output_type": "execute_result",
          "data": {
            "text/plain": [
              "array([[ 0.,  0.,  5., 13.,  9.,  1.,  0.,  0.],\n",
              "       [ 0.,  0., 13., 15., 10., 15.,  5.,  0.],\n",
              "       [ 0.,  3., 15.,  2.,  0., 11.,  8.,  0.],\n",
              "       [ 0.,  4., 12.,  0.,  0.,  8.,  8.,  0.],\n",
              "       [ 0.,  5.,  8.,  0.,  0.,  9.,  8.,  0.],\n",
              "       [ 0.,  4., 11.,  0.,  1., 12.,  7.,  0.],\n",
              "       [ 0.,  2., 14.,  5., 10., 12.,  0.,  0.],\n",
              "       [ 0.,  0.,  6., 13., 10.,  0.,  0.,  0.]])"
            ]
          },
          "metadata": {},
          "execution_count": 9
        }
      ]
    },
    {
      "cell_type": "code",
      "source": [
        "df.images[0].shape"
      ],
      "metadata": {
        "id": "oXFf_qn5MVko",
        "outputId": "2b7e6542-f720-4a9d-ea59-8bc4e4d32161",
        "colab": {
          "base_uri": "https://localhost:8080/"
        }
      },
      "execution_count": 10,
      "outputs": [
        {
          "output_type": "execute_result",
          "data": {
            "text/plain": [
              "(8, 8)"
            ]
          },
          "metadata": {},
          "execution_count": 10
        }
      ]
    },
    {
      "cell_type": "code",
      "source": [
        "len(df.images)"
      ],
      "metadata": {
        "id": "m2bR0TAQMf8a",
        "outputId": "994cfed0-c789-4821-e48f-78f3442b2e89",
        "colab": {
          "base_uri": "https://localhost:8080/"
        }
      },
      "execution_count": 11,
      "outputs": [
        {
          "output_type": "execute_result",
          "data": {
            "text/plain": [
              "1797"
            ]
          },
          "metadata": {},
          "execution_count": 11
        }
      ]
    },
    {
      "cell_type": "code",
      "source": [
        "n_samples = len(df.images)\n",
        "data = df.images.reshape((n_samples, -1))"
      ],
      "metadata": {
        "id": "hzi-TPXVMvF4"
      },
      "execution_count": 12,
      "outputs": []
    },
    {
      "cell_type": "code",
      "source": [
        "data[0]"
      ],
      "metadata": {
        "id": "A_f8ujVUNK3Q",
        "outputId": "580505a8-3fb3-48b0-a694-75f65cca15fa",
        "colab": {
          "base_uri": "https://localhost:8080/"
        }
      },
      "execution_count": 13,
      "outputs": [
        {
          "output_type": "execute_result",
          "data": {
            "text/plain": [
              "array([ 0.,  0.,  5., 13.,  9.,  1.,  0.,  0.,  0.,  0., 13., 15., 10.,\n",
              "       15.,  5.,  0.,  0.,  3., 15.,  2.,  0., 11.,  8.,  0.,  0.,  4.,\n",
              "       12.,  0.,  0.,  8.,  8.,  0.,  0.,  5.,  8.,  0.,  0.,  9.,  8.,\n",
              "        0.,  0.,  4., 11.,  0.,  1., 12.,  7.,  0.,  0.,  2., 14.,  5.,\n",
              "       10., 12.,  0.,  0.,  0.,  0.,  6., 13., 10.,  0.,  0.,  0.])"
            ]
          },
          "metadata": {},
          "execution_count": 13
        }
      ]
    },
    {
      "cell_type": "code",
      "source": [
        "data[0]"
      ],
      "metadata": {
        "id": "VZnbC614NNP7",
        "outputId": "3907a92b-a767-4867-d7e6-599db38dd70e",
        "colab": {
          "base_uri": "https://localhost:8080/"
        }
      },
      "execution_count": 14,
      "outputs": [
        {
          "output_type": "execute_result",
          "data": {
            "text/plain": [
              "array([ 0.,  0.,  5., 13.,  9.,  1.,  0.,  0.,  0.,  0., 13., 15., 10.,\n",
              "       15.,  5.,  0.,  0.,  3., 15.,  2.,  0., 11.,  8.,  0.,  0.,  4.,\n",
              "       12.,  0.,  0.,  8.,  8.,  0.,  0.,  5.,  8.,  0.,  0.,  9.,  8.,\n",
              "        0.,  0.,  4., 11.,  0.,  1., 12.,  7.,  0.,  0.,  2., 14.,  5.,\n",
              "       10., 12.,  0.,  0.,  0.,  0.,  6., 13., 10.,  0.,  0.,  0.])"
            ]
          },
          "metadata": {},
          "execution_count": 14
        }
      ]
    },
    {
      "cell_type": "code",
      "source": [
        "data[0].shape"
      ],
      "metadata": {
        "id": "flChB2iTNapo",
        "outputId": "b8c03ccf-c538-4cf4-8f4b-95534fb81073",
        "colab": {
          "base_uri": "https://localhost:8080/"
        }
      },
      "execution_count": 15,
      "outputs": [
        {
          "output_type": "execute_result",
          "data": {
            "text/plain": [
              "(64,)"
            ]
          },
          "metadata": {},
          "execution_count": 15
        }
      ]
    },
    {
      "cell_type": "code",
      "source": [
        "data.shape"
      ],
      "metadata": {
        "id": "Su8G-y_FNfEz",
        "outputId": "6bb484c1-f776-47b0-e898-7eab2c4fdc31",
        "colab": {
          "base_uri": "https://localhost:8080/"
        }
      },
      "execution_count": 16,
      "outputs": [
        {
          "output_type": "execute_result",
          "data": {
            "text/plain": [
              "(1797, 64)"
            ]
          },
          "metadata": {},
          "execution_count": 16
        }
      ]
    },
    {
      "cell_type": "markdown",
      "source": [
        "# **Scaling Image Data**"
      ],
      "metadata": {
        "id": "IhUQBR-WNpx-"
      }
    },
    {
      "cell_type": "code",
      "source": [
        "data.min()"
      ],
      "metadata": {
        "id": "vawGCpjdNhf2",
        "outputId": "9052e80d-c84d-4377-8351-94925db62cd2",
        "colab": {
          "base_uri": "https://localhost:8080/"
        }
      },
      "execution_count": 17,
      "outputs": [
        {
          "output_type": "execute_result",
          "data": {
            "text/plain": [
              "0.0"
            ]
          },
          "metadata": {},
          "execution_count": 17
        }
      ]
    },
    {
      "cell_type": "code",
      "source": [
        "data.max()"
      ],
      "metadata": {
        "id": "7KtM0FlYNxeA",
        "outputId": "e498476b-1980-4c25-e38c-1309e0dd2d03",
        "colab": {
          "base_uri": "https://localhost:8080/"
        }
      },
      "execution_count": 18,
      "outputs": [
        {
          "output_type": "execute_result",
          "data": {
            "text/plain": [
              "16.0"
            ]
          },
          "metadata": {},
          "execution_count": 18
        }
      ]
    },
    {
      "cell_type": "code",
      "source": [
        "data = data/16"
      ],
      "metadata": {
        "id": "48Ri_lq4NzUf"
      },
      "execution_count": 19,
      "outputs": []
    },
    {
      "cell_type": "code",
      "source": [
        "data.min()"
      ],
      "metadata": {
        "id": "kEjibul1N3xR",
        "outputId": "f8af9fa2-a695-403c-8ff5-28b1f15ce294",
        "colab": {
          "base_uri": "https://localhost:8080/"
        }
      },
      "execution_count": 20,
      "outputs": [
        {
          "output_type": "execute_result",
          "data": {
            "text/plain": [
              "0.0"
            ]
          },
          "metadata": {},
          "execution_count": 20
        }
      ]
    },
    {
      "cell_type": "code",
      "source": [
        "data.max()"
      ],
      "metadata": {
        "id": "leDodG-9N6EP",
        "outputId": "7eb24431-7fa0-43cb-87d4-91cf195791fd",
        "colab": {
          "base_uri": "https://localhost:8080/"
        }
      },
      "execution_count": 21,
      "outputs": [
        {
          "output_type": "execute_result",
          "data": {
            "text/plain": [
              "1.0"
            ]
          },
          "metadata": {},
          "execution_count": 21
        }
      ]
    },
    {
      "cell_type": "code",
      "source": [
        "data[0]"
      ],
      "metadata": {
        "id": "RElT8jWOOAiL",
        "outputId": "952a7455-7276-4f5a-c4f4-b5db9a29142e",
        "colab": {
          "base_uri": "https://localhost:8080/"
        }
      },
      "execution_count": 22,
      "outputs": [
        {
          "output_type": "execute_result",
          "data": {
            "text/plain": [
              "array([0.    , 0.    , 0.3125, 0.8125, 0.5625, 0.0625, 0.    , 0.    ,\n",
              "       0.    , 0.    , 0.8125, 0.9375, 0.625 , 0.9375, 0.3125, 0.    ,\n",
              "       0.    , 0.1875, 0.9375, 0.125 , 0.    , 0.6875, 0.5   , 0.    ,\n",
              "       0.    , 0.25  , 0.75  , 0.    , 0.    , 0.5   , 0.5   , 0.    ,\n",
              "       0.    , 0.3125, 0.5   , 0.    , 0.    , 0.5625, 0.5   , 0.    ,\n",
              "       0.    , 0.25  , 0.6875, 0.    , 0.0625, 0.75  , 0.4375, 0.    ,\n",
              "       0.    , 0.125 , 0.875 , 0.3125, 0.625 , 0.75  , 0.    , 0.    ,\n",
              "       0.    , 0.    , 0.375 , 0.8125, 0.625 , 0.    , 0.    , 0.    ])"
            ]
          },
          "metadata": {},
          "execution_count": 22
        }
      ]
    },
    {
      "cell_type": "markdown",
      "source": [
        "# **Train Test Split Data**"
      ],
      "metadata": {
        "id": "p1xqw2A4oAkg"
      }
    },
    {
      "cell_type": "code",
      "source": [
        "from sklearn.model_selection import train_test_split"
      ],
      "metadata": {
        "id": "JqChSVtGOCsz"
      },
      "execution_count": 24,
      "outputs": []
    },
    {
      "cell_type": "code",
      "source": [
        "x_train, x_test, y_train, y_test = train_test_split(data, df.target, test_size=0.3)"
      ],
      "metadata": {
        "id": "k-cqkRxMqA93"
      },
      "execution_count": 31,
      "outputs": []
    },
    {
      "cell_type": "code",
      "source": [
        "x_train.shape, x_test.shape, y_train.shape, y_test.shape"
      ],
      "metadata": {
        "id": "P4AcwsXjqYjH",
        "outputId": "9d08bcd1-71ba-416f-a069-f95b2df834e3",
        "colab": {
          "base_uri": "https://localhost:8080/"
        }
      },
      "execution_count": 32,
      "outputs": [
        {
          "output_type": "execute_result",
          "data": {
            "text/plain": [
              "((1257, 64), (540, 64), (1257,), (540,))"
            ]
          },
          "metadata": {},
          "execution_count": 32
        }
      ]
    },
    {
      "cell_type": "markdown",
      "source": [
        "# **Random Forest Model**"
      ],
      "metadata": {
        "id": "8K5nPeE9s2kQ"
      }
    },
    {
      "cell_type": "code",
      "source": [
        "from sklearn.ensemble import RandomForestClassifier"
      ],
      "metadata": {
        "id": "RcEX9Lmnsq0Y"
      },
      "execution_count": 33,
      "outputs": []
    },
    {
      "cell_type": "code",
      "source": [
        "rf = RandomForestClassifier()"
      ],
      "metadata": {
        "id": "jCHtPw6WtQrz"
      },
      "execution_count": 34,
      "outputs": []
    },
    {
      "cell_type": "code",
      "source": [
        "rf.fit(x_train, y_train)"
      ],
      "metadata": {
        "id": "6MMpC5rctWTX",
        "outputId": "9378d488-dfb0-4e80-8a92-b65822ff3463",
        "colab": {
          "base_uri": "https://localhost:8080/",
          "height": 74
        }
      },
      "execution_count": 35,
      "outputs": [
        {
          "output_type": "execute_result",
          "data": {
            "text/plain": [
              "RandomForestClassifier()"
            ],
            "text/html": [
              "<style>#sk-container-id-1 {color: black;background-color: white;}#sk-container-id-1 pre{padding: 0;}#sk-container-id-1 div.sk-toggleable {background-color: white;}#sk-container-id-1 label.sk-toggleable__label {cursor: pointer;display: block;width: 100%;margin-bottom: 0;padding: 0.3em;box-sizing: border-box;text-align: center;}#sk-container-id-1 label.sk-toggleable__label-arrow:before {content: \"▸\";float: left;margin-right: 0.25em;color: #696969;}#sk-container-id-1 label.sk-toggleable__label-arrow:hover:before {color: black;}#sk-container-id-1 div.sk-estimator:hover label.sk-toggleable__label-arrow:before {color: black;}#sk-container-id-1 div.sk-toggleable__content {max-height: 0;max-width: 0;overflow: hidden;text-align: left;background-color: #f0f8ff;}#sk-container-id-1 div.sk-toggleable__content pre {margin: 0.2em;color: black;border-radius: 0.25em;background-color: #f0f8ff;}#sk-container-id-1 input.sk-toggleable__control:checked~div.sk-toggleable__content {max-height: 200px;max-width: 100%;overflow: auto;}#sk-container-id-1 input.sk-toggleable__control:checked~label.sk-toggleable__label-arrow:before {content: \"▾\";}#sk-container-id-1 div.sk-estimator input.sk-toggleable__control:checked~label.sk-toggleable__label {background-color: #d4ebff;}#sk-container-id-1 div.sk-label input.sk-toggleable__control:checked~label.sk-toggleable__label {background-color: #d4ebff;}#sk-container-id-1 input.sk-hidden--visually {border: 0;clip: rect(1px 1px 1px 1px);clip: rect(1px, 1px, 1px, 1px);height: 1px;margin: -1px;overflow: hidden;padding: 0;position: absolute;width: 1px;}#sk-container-id-1 div.sk-estimator {font-family: monospace;background-color: #f0f8ff;border: 1px dotted black;border-radius: 0.25em;box-sizing: border-box;margin-bottom: 0.5em;}#sk-container-id-1 div.sk-estimator:hover {background-color: #d4ebff;}#sk-container-id-1 div.sk-parallel-item::after {content: \"\";width: 100%;border-bottom: 1px solid gray;flex-grow: 1;}#sk-container-id-1 div.sk-label:hover label.sk-toggleable__label {background-color: #d4ebff;}#sk-container-id-1 div.sk-serial::before {content: \"\";position: absolute;border-left: 1px solid gray;box-sizing: border-box;top: 0;bottom: 0;left: 50%;z-index: 0;}#sk-container-id-1 div.sk-serial {display: flex;flex-direction: column;align-items: center;background-color: white;padding-right: 0.2em;padding-left: 0.2em;position: relative;}#sk-container-id-1 div.sk-item {position: relative;z-index: 1;}#sk-container-id-1 div.sk-parallel {display: flex;align-items: stretch;justify-content: center;background-color: white;position: relative;}#sk-container-id-1 div.sk-item::before, #sk-container-id-1 div.sk-parallel-item::before {content: \"\";position: absolute;border-left: 1px solid gray;box-sizing: border-box;top: 0;bottom: 0;left: 50%;z-index: -1;}#sk-container-id-1 div.sk-parallel-item {display: flex;flex-direction: column;z-index: 1;position: relative;background-color: white;}#sk-container-id-1 div.sk-parallel-item:first-child::after {align-self: flex-end;width: 50%;}#sk-container-id-1 div.sk-parallel-item:last-child::after {align-self: flex-start;width: 50%;}#sk-container-id-1 div.sk-parallel-item:only-child::after {width: 0;}#sk-container-id-1 div.sk-dashed-wrapped {border: 1px dashed gray;margin: 0 0.4em 0.5em 0.4em;box-sizing: border-box;padding-bottom: 0.4em;background-color: white;}#sk-container-id-1 div.sk-label label {font-family: monospace;font-weight: bold;display: inline-block;line-height: 1.2em;}#sk-container-id-1 div.sk-label-container {text-align: center;}#sk-container-id-1 div.sk-container {/* jupyter's `normalize.less` sets `[hidden] { display: none; }` but bootstrap.min.css set `[hidden] { display: none !important; }` so we also need the `!important` here to be able to override the default hidden behavior on the sphinx rendered scikit-learn.org. See: https://github.com/scikit-learn/scikit-learn/issues/21755 */display: inline-block !important;position: relative;}#sk-container-id-1 div.sk-text-repr-fallback {display: none;}</style><div id=\"sk-container-id-1\" class=\"sk-top-container\"><div class=\"sk-text-repr-fallback\"><pre>RandomForestClassifier()</pre><b>In a Jupyter environment, please rerun this cell to show the HTML representation or trust the notebook. <br />On GitHub, the HTML representation is unable to render, please try loading this page with nbviewer.org.</b></div><div class=\"sk-container\" hidden><div class=\"sk-item\"><div class=\"sk-estimator sk-toggleable\"><input class=\"sk-toggleable__control sk-hidden--visually\" id=\"sk-estimator-id-1\" type=\"checkbox\" checked><label for=\"sk-estimator-id-1\" class=\"sk-toggleable__label sk-toggleable__label-arrow\">RandomForestClassifier</label><div class=\"sk-toggleable__content\"><pre>RandomForestClassifier()</pre></div></div></div></div></div>"
            ]
          },
          "metadata": {},
          "execution_count": 35
        }
      ]
    },
    {
      "cell_type": "markdown",
      "source": [
        "# **Predict Test Data**"
      ],
      "metadata": {
        "id": "YKMidYDqt6YF"
      }
    },
    {
      "cell_type": "code",
      "source": [
        "y_pred = rf.predict(x_test)"
      ],
      "metadata": {
        "id": "3Qbx7-qatgD0"
      },
      "execution_count": 36,
      "outputs": []
    },
    {
      "cell_type": "code",
      "source": [
        "y_pred"
      ],
      "metadata": {
        "id": "hAeaovaCuHeu",
        "outputId": "8e11367f-1ce1-4a86-d59f-4d7e06372d69",
        "colab": {
          "base_uri": "https://localhost:8080/"
        }
      },
      "execution_count": 37,
      "outputs": [
        {
          "output_type": "execute_result",
          "data": {
            "text/plain": [
              "array([7, 6, 2, 5, 8, 2, 5, 4, 3, 9, 5, 7, 5, 6, 2, 9, 8, 9, 1, 8, 8, 9,\n",
              "       4, 7, 0, 9, 9, 1, 4, 7, 4, 2, 4, 1, 2, 2, 9, 2, 6, 7, 9, 9, 8, 8,\n",
              "       5, 2, 2, 2, 6, 4, 2, 6, 7, 1, 9, 7, 3, 5, 5, 0, 5, 0, 7, 9, 1, 8,\n",
              "       6, 3, 0, 4, 6, 9, 7, 7, 2, 8, 4, 8, 6, 0, 6, 5, 4, 8, 8, 9, 3, 8,\n",
              "       6, 2, 7, 5, 5, 4, 6, 2, 6, 4, 7, 3, 3, 0, 6, 3, 3, 8, 6, 6, 8, 3,\n",
              "       0, 7, 8, 8, 4, 9, 6, 6, 3, 4, 8, 0, 3, 4, 5, 9, 4, 1, 4, 3, 3, 3,\n",
              "       8, 2, 0, 3, 1, 1, 6, 0, 2, 3, 3, 0, 4, 1, 5, 2, 1, 8, 6, 5, 1, 0,\n",
              "       6, 9, 7, 4, 5, 1, 0, 4, 4, 5, 3, 6, 2, 9, 3, 2, 8, 8, 5, 4, 4, 2,\n",
              "       0, 3, 2, 5, 2, 1, 1, 0, 3, 6, 4, 4, 9, 7, 5, 6, 8, 5, 6, 0, 4, 4,\n",
              "       0, 9, 1, 9, 2, 9, 1, 9, 6, 7, 7, 5, 6, 7, 7, 2, 8, 8, 3, 6, 6, 3,\n",
              "       0, 2, 4, 0, 4, 4, 2, 3, 8, 0, 5, 2, 9, 7, 9, 0, 9, 2, 2, 8, 9, 4,\n",
              "       3, 9, 9, 3, 4, 0, 2, 1, 1, 6, 0, 6, 7, 4, 9, 6, 6, 9, 9, 5, 8, 5,\n",
              "       3, 8, 0, 6, 0, 9, 4, 4, 9, 3, 3, 8, 0, 4, 4, 5, 9, 8, 6, 2, 3, 0,\n",
              "       0, 2, 7, 6, 2, 8, 1, 5, 8, 7, 4, 4, 9, 8, 4, 8, 7, 8, 5, 3, 4, 5,\n",
              "       0, 0, 5, 0, 2, 2, 8, 6, 7, 9, 7, 6, 0, 5, 1, 3, 2, 4, 0, 7, 4, 7,\n",
              "       4, 8, 6, 6, 3, 9, 2, 8, 3, 1, 1, 5, 5, 8, 2, 5, 8, 1, 6, 4, 1, 3,\n",
              "       9, 5, 9, 2, 4, 0, 5, 3, 4, 8, 2, 2, 6, 3, 8, 7, 0, 6, 2, 5, 8, 1,\n",
              "       5, 4, 9, 1, 0, 1, 1, 4, 3, 0, 6, 9, 1, 9, 8, 1, 5, 7, 7, 3, 4, 9,\n",
              "       7, 6, 9, 5, 0, 8, 1, 0, 9, 9, 5, 0, 8, 8, 0, 3, 9, 6, 7, 2, 0, 5,\n",
              "       3, 5, 2, 9, 4, 6, 4, 1, 9, 0, 6, 7, 3, 3, 9, 4, 3, 9, 6, 7, 4, 2,\n",
              "       0, 1, 0, 5, 0, 1, 8, 6, 2, 9, 2, 9, 4, 9, 0, 2, 4, 2, 3, 7, 4, 1,\n",
              "       0, 7, 4, 2, 2, 6, 1, 9, 1, 4, 3, 7, 4, 8, 1, 4, 5, 7, 3, 6, 8, 7,\n",
              "       4, 7, 3, 2, 4, 6, 5, 9, 5, 7, 1, 3, 2, 4, 1, 0, 1, 6, 9, 9, 1, 9,\n",
              "       8, 4, 1, 6, 0, 5, 7, 8, 9, 5, 5, 7, 7, 9, 4, 8, 9, 5, 4, 0, 7, 7,\n",
              "       2, 8, 5, 3, 9, 2, 2, 9, 6, 0, 1, 0])"
            ]
          },
          "metadata": {},
          "execution_count": 37
        }
      ]
    },
    {
      "cell_type": "markdown",
      "source": [
        "# **Model Accuracy**"
      ],
      "metadata": {
        "id": "38vfjZ9MuQI5"
      }
    },
    {
      "cell_type": "code",
      "source": [
        "from sklearn.metrics import confusion_matrix, classification_report"
      ],
      "metadata": {
        "id": "LdMeItNuuJqt"
      },
      "execution_count": 38,
      "outputs": []
    },
    {
      "cell_type": "code",
      "source": [
        "confusion_matrix(y_test, y_pred)"
      ],
      "metadata": {
        "id": "z3juvxAIuh08",
        "outputId": "a90cdba8-4411-4c7f-ad2d-09f3d23665aa",
        "colab": {
          "base_uri": "https://localhost:8080/"
        }
      },
      "execution_count": 39,
      "outputs": [
        {
          "output_type": "execute_result",
          "data": {
            "text/plain": [
              "array([[53,  0,  0,  0,  0,  0,  0,  0,  0,  0],\n",
              "       [ 0, 42,  0,  0,  0,  0,  0,  0,  0,  0],\n",
              "       [ 0,  0, 55,  0,  0,  0,  0,  0,  0,  0],\n",
              "       [ 0,  0,  0, 49,  0,  0,  0,  2,  1,  0],\n",
              "       [ 0,  0,  0,  0, 65,  0,  0,  0,  0,  0],\n",
              "       [ 0,  0,  0,  0,  0, 50,  0,  0,  0,  0],\n",
              "       [ 0,  1,  0,  0,  0,  1, 55,  0,  1,  0],\n",
              "       [ 0,  0,  0,  0,  0,  0,  0, 44,  0,  1],\n",
              "       [ 0,  1,  1,  0,  1,  0,  0,  0, 52,  0],\n",
              "       [ 0,  0,  0,  1,  0,  0,  0,  1,  0, 63]])"
            ]
          },
          "metadata": {},
          "execution_count": 39
        }
      ]
    },
    {
      "cell_type": "code",
      "source": [
        "print (classification_report(y_test, y_pred))"
      ],
      "metadata": {
        "id": "bKcDfSPSuovP",
        "outputId": "b6883fb4-e8ce-4f6e-e13a-bc83d15f0341",
        "colab": {
          "base_uri": "https://localhost:8080/"
        }
      },
      "execution_count": 40,
      "outputs": [
        {
          "output_type": "stream",
          "name": "stdout",
          "text": [
            "              precision    recall  f1-score   support\n",
            "\n",
            "           0       1.00      1.00      1.00        53\n",
            "           1       0.95      1.00      0.98        42\n",
            "           2       0.98      1.00      0.99        55\n",
            "           3       0.98      0.94      0.96        52\n",
            "           4       0.98      1.00      0.99        65\n",
            "           5       0.98      1.00      0.99        50\n",
            "           6       1.00      0.95      0.97        58\n",
            "           7       0.94      0.98      0.96        45\n",
            "           8       0.96      0.95      0.95        55\n",
            "           9       0.98      0.97      0.98        65\n",
            "\n",
            "    accuracy                           0.98       540\n",
            "   macro avg       0.98      0.98      0.98       540\n",
            "weighted avg       0.98      0.98      0.98       540\n",
            "\n"
          ]
        }
      ]
    },
    {
      "cell_type": "code",
      "source": [],
      "metadata": {
        "id": "mUOAl3LHuw-H"
      },
      "execution_count": null,
      "outputs": []
    }
  ],
  "metadata": {
    "colab": {
      "name": "Welcome To Colab",
      "provenance": []
    },
    "kernelspec": {
      "display_name": "Python 3",
      "name": "python3"
    }
  },
  "nbformat": 4,
  "nbformat_minor": 0
}